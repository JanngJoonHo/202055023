{
 "cells": [
  {
   "cell_type": "code",
   "execution_count": 3,
   "id": "00412463-49ea-44b2-b03a-17d19f3f9bd9",
   "metadata": {
    "tags": []
   },
   "outputs": [
    {
     "data": {
      "text/plain": [
       "['쌍', '쇠', '복', '돌', '팽', '육', '쌍', '개', '칠', '갑', '삼', '방']"
      ]
     },
     "execution_count": 3,
     "metadata": {},
     "output_type": "execute_result"
    }
   ],
   "source": [
    "month = ['쌍', '쇠', '복', '돌', '팽', '육', '쌍', '개', '칠', '갑', '삼', '방']\n",
    "month"
   ]
  },
  {
   "cell_type": "code",
   "execution_count": 32,
   "id": "09f7f98c-bdcd-4e86-a5ab-71093995f001",
   "metadata": {
    "tags": []
   },
   "outputs": [
    {
     "data": {
      "text/plain": [
       "['봉',\n",
       " '구',\n",
       " '욕',\n",
       " '포',\n",
       " '똥',\n",
       " '삼',\n",
       " '식',\n",
       " '석',\n",
       " '놈',\n",
       " '님',\n",
       " '년',\n",
       " '돌',\n",
       " '단',\n",
       " '득',\n",
       " '방',\n",
       " '질',\n",
       " '장',\n",
       " '걸',\n",
       " '래',\n",
       " '룡',\n",
       " '동',\n",
       " '순',\n",
       " '자',\n",
       " '박',\n",
       " '창',\n",
       " '언',\n",
       " '것',\n",
       " '포',\n",
       " '만',\n",
       " '단',\n",
       " '국']"
      ]
     },
     "execution_count": 32,
     "metadata": {},
     "output_type": "execute_result"
    }
   ],
   "source": [
    "day =['봉', '구', '욕', '포', '똥', '삼', '식', '석', '놈', '님', '년', '돌', '단', '득', '방', '질', '장', '걸', '래', '룡', '동', '순', '자', '박', '창', '언', '것', '포', '만', '단', '국']\n",
    "day"
   ]
  },
  {
   "cell_type": "code",
   "execution_count": 39,
   "id": "3f60d46b-039c-4085-bc96-f1e49452a315",
   "metadata": {
    "tags": []
   },
   "outputs": [],
   "source": [
    "def get_my_chosun_name(family_name, m, d): \n",
    "    print(\"당신의 조선시대 이름은 %s%s%s 입니다\"\n",
    "        %(family_name, month[m-1], day[d-1]))"
   ]
  },
  {
   "cell_type": "code",
   "execution_count": 40,
   "id": "831cb246-2f00-4fb7-8d55-34c410896b6c",
   "metadata": {
    "tags": []
   },
   "outputs": [
    {
     "name": "stdout",
     "output_type": "stream",
     "text": [
      "당신의 조선시대 이름은 장칠박 입니다\n"
     ]
    }
   ],
   "source": [
    "get_my_chosun_name(\"장\",9,24)"
   ]
  },
  {
   "cell_type": "code",
   "execution_count": null,
   "id": "2cbf1a7d-a1de-43d0-80ed-e994234af512",
   "metadata": {},
   "outputs": [],
   "source": []
  }
 ],
 "metadata": {
  "kernelspec": {
   "display_name": "Python 3 (ipykernel)",
   "language": "python",
   "name": "python3"
  },
  "language_info": {
   "codemirror_mode": {
    "name": "ipython",
    "version": 3
   },
   "file_extension": ".py",
   "mimetype": "text/x-python",
   "name": "python",
   "nbconvert_exporter": "python",
   "pygments_lexer": "ipython3",
   "version": "3.11.4"
  }
 },
 "nbformat": 4,
 "nbformat_minor": 5
}
