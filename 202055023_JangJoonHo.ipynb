{
 "cells": [
  {
   "cell_type": "code",
   "execution_count": 36,
   "id": "b67782d1-d095-439b-8ce7-7de95407fb84",
   "metadata": {
    "tags": []
   },
   "outputs": [],
   "source": [
    "lovely_loveseat_description = \"Lovely Loveseat. Tufted polyester blend on wood. 32 inches high x 40 inches wide x 30 inches deep. Red or white. \"\n",
    "lovely_loveseat_price = 254.00\n",
    "\n",
    "stylish_settee_description = \"Stylish Settee. Faux leather on birch. 29.50 inches high x 54.75 inches wide x 28 inches deep. Black. \"\n",
    "stylish_settee_price = 180.50\n",
    "\n",
    "luxurious_lamp_description = \"Luxurious Lamp. Glass and iron. 36 inches tall. Brown with cream shade. \"\n",
    "luxurious_lamp_price = 52.15\n",
    "\n",
    "sales_tax = 0.088\n",
    "customer_one_total = 0\n",
    "customer_one_itemization = \"\""
   ]
  },
  {
   "cell_type": "code",
   "execution_count": 37,
   "id": "8f5adc36-1cc8-464e-8fc1-702c6badb504",
   "metadata": {
    "tags": []
   },
   "outputs": [
    {
     "data": {
      "text/plain": [
       "254.0"
      ]
     },
     "execution_count": 37,
     "metadata": {},
     "output_type": "execute_result"
    }
   ],
   "source": [
    "customer_one_total += lovely_loveseat_price\n",
    "customer_one_total"
   ]
  },
  {
   "cell_type": "code",
   "execution_count": 38,
   "id": "a6a32efd-3f83-4edf-9115-f9f548fcc225",
   "metadata": {
    "tags": []
   },
   "outputs": [
    {
     "data": {
      "text/plain": [
       "'Lovely Loveseat. Tufted polyester blend on wood. 32 inches high x 40 inches wide x 30 inches deep. Red or white. '"
      ]
     },
     "execution_count": 38,
     "metadata": {},
     "output_type": "execute_result"
    }
   ],
   "source": [
    "customer_one_itemization += lovely_loveseat_description\n",
    "customer_one_itemization"
   ]
  },
  {
   "cell_type": "code",
   "execution_count": 39,
   "id": "d0139fb3-d882-41e1-b3d2-b0d17fb4101a",
   "metadata": {
    "tags": []
   },
   "outputs": [
    {
     "data": {
      "text/plain": [
       "306.15"
      ]
     },
     "execution_count": 39,
     "metadata": {},
     "output_type": "execute_result"
    }
   ],
   "source": [
    "customer_one_total += luxurious_lamp_price\n",
    "customer_one_total"
   ]
  },
  {
   "cell_type": "code",
   "execution_count": 40,
   "id": "09c5119f-360e-4741-b3c8-90e2a5ffd23e",
   "metadata": {
    "tags": []
   },
   "outputs": [
    {
     "data": {
      "text/plain": [
       "'Lovely Loveseat. Tufted polyester blend on wood. 32 inches high x 40 inches wide x 30 inches deep. Red or white. Luxurious Lamp. Glass and iron. 36 inches tall. Brown with cream shade. '"
      ]
     },
     "execution_count": 40,
     "metadata": {},
     "output_type": "execute_result"
    }
   ],
   "source": [
    "customer_one_itemization += luxurious_lamp_description\n",
    "customer_one_itemization"
   ]
  },
  {
   "cell_type": "code",
   "execution_count": 41,
   "id": "90f1a3f7-0c2f-4815-acb9-cc538f16b0f9",
   "metadata": {
    "tags": []
   },
   "outputs": [
    {
     "data": {
      "text/plain": [
       "26.941199999999995"
      ]
     },
     "execution_count": 41,
     "metadata": {},
     "output_type": "execute_result"
    }
   ],
   "source": [
    "customer_one_tax = customer_one_total * sales_tax\n",
    "customer_one_tax"
   ]
  },
  {
   "cell_type": "code",
   "execution_count": 42,
   "id": "ed526b7f-cce5-4683-a1c7-00b747f56266",
   "metadata": {
    "tags": []
   },
   "outputs": [
    {
     "data": {
      "text/plain": [
       "333.09119999999996"
      ]
     },
     "execution_count": 42,
     "metadata": {},
     "output_type": "execute_result"
    }
   ],
   "source": [
    "customer_one_total += customer_one_tax\n",
    "customer_one_total"
   ]
  },
  {
   "cell_type": "code",
   "execution_count": 43,
   "id": "11a820bc-c1da-410b-a120-c9753ca47361",
   "metadata": {
    "tags": []
   },
   "outputs": [
    {
     "name": "stdout",
     "output_type": "stream",
     "text": [
      "Customer One Items:\n",
      "Lovely Loveseat. Tufted polyester blend on wood. 32 inches high x 40 inches wide x 30 inches deep. Red or white. Luxurious Lamp. Glass and iron. 36 inches tall. Brown with cream shade. \n",
      "Customer One Total:\n",
      "333.09119999999996\n"
     ]
    }
   ],
   "source": [
    "print(\"Customer One Items:\")\n",
    "print(customer_one_itemization)\n",
    "print(\"Customer One Total:\")\n",
    "print(customer_one_total)"
   ]
  }
 ],
 "metadata": {
  "kernelspec": {
   "display_name": "Python 3 (ipykernel)",
   "language": "python",
   "name": "python3"
  },
  "language_info": {
   "codemirror_mode": {
    "name": "ipython",
    "version": 3
   },
   "file_extension": ".py",
   "mimetype": "text/x-python",
   "name": "python",
   "nbconvert_exporter": "python",
   "pygments_lexer": "ipython3",
   "version": "3.11.4"
  }
 },
 "nbformat": 4,
 "nbformat_minor": 5
}
